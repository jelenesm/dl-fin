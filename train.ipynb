{
 "cells": [
  {
   "cell_type": "code",
   "execution_count": null,
   "metadata": {},
   "outputs": [],
   "source": [
    "import keras, os\n",
    "import numpy as np\n",
    "from models import model1, model2"
   ]
  },
  {
   "cell_type": "markdown",
   "metadata": {},
   "source": [
    "### Hyperparameters"
   ]
  },
  {
   "cell_type": "code",
   "execution_count": 2,
   "metadata": {},
   "outputs": [],
   "source": [
    "n_timesteps = 30\n",
    "n_securities = 20\n",
    "input_shape=((n_timesteps-1, n_securities))\n",
    "embed_dim = 384\n",
    "n_heads = 6\n",
    "n_layers = 4\n",
    "ff_dim = embed_dim*4\n",
    "\n",
    "batch_size = 16\n",
    "epochs = 200\n",
    "lr = 1e-4"
   ]
  },
  {
   "cell_type": "markdown",
   "metadata": {},
   "source": [
    "### Data Pipeline"
   ]
  },
  {
   "cell_type": "code",
   "execution_count": 3,
   "metadata": {},
   "outputs": [],
   "source": [
    "def preprocess_dataset(data, n_timesteps):\n",
    "    n_examples = data.shape[0]-n_timesteps\n",
    "    examples = []\n",
    "    for idx in range(n_examples):\n",
    "        example = data[idx:idx+n_timesteps]\n",
    "        examples.append(example)\n",
    "    return np.array(examples)\n",
    "\n",
    "class dataset(keras.utils.PyDataset):\n",
    "\n",
    "    def __init__(\n",
    "            self,\n",
    "            batch_size,\n",
    "            examples,\n",
    "            **kwargs       \n",
    "            ):\n",
    "\n",
    "        super().__init__(**kwargs)\n",
    "        self.batch_size = batch_size\n",
    "        self.examples = examples\n",
    "    \n",
    "    def __len__(self):\n",
    "        return self.examples.shape[0] // self.batch_size\n",
    "\n",
    "    def __getitem__(self, idx):\n",
    "        X = self.examples[idx:idx+self.batch_size,:-1]\n",
    "        Y = self.examples[idx:idx+self.batch_size,1:]\n",
    "        return X, Y\n"
   ]
  },
  {
   "cell_type": "markdown",
   "metadata": {},
   "source": [
    "### Load Dataset"
   ]
  },
  {
   "cell_type": "code",
   "execution_count": null,
   "metadata": {},
   "outputs": [],
   "source": [
    "# FIXME: this is a placeholder for real data\n",
    "P = np.random.randn(1000, n_securities)\n",
    "\n",
    "examples = preprocess_dataset(P, n_timesteps)\n",
    "n_examples = len(examples)\n",
    "print(f'Found {n_examples} examples')\n",
    "\n",
    "train_ds = dataset(batch_size, examples[:n_examples*80//10])\n",
    "val_ds = dataset(batch_size, examples[:n_examples*20//100])"
   ]
  },
  {
   "cell_type": "markdown",
   "metadata": {},
   "source": [
    "### Build Model"
   ]
  },
  {
   "cell_type": "code",
   "execution_count": 5,
   "metadata": {},
   "outputs": [],
   "source": [
    "def compile(model, checkpoint, lr):\n",
    "    model.compile(\n",
    "        optimizer=keras.optimizers.Adam(learning_rate=lr),\n",
    "        loss=keras.losses.MeanSquaredError(),\n",
    "        )    \n",
    "    if checkpoint is not None:\n",
    "        if os.path.exists(checkpoint):\n",
    "            print(f'Loaded model checkpoint \"{checkpoint}\"')\n",
    "            model = model.load_weights(checkpoint)\n",
    "        else:\n",
    "            print(f'New model \"{checkpoint}\"')"
   ]
  },
  {
   "cell_type": "code",
   "execution_count": null,
   "metadata": {},
   "outputs": [],
   "source": [
    "m1 = model1(input_shape, n_layers, embed_dim, n_heads, ff_dim)\n",
    "m1.summary()\n",
    "\n",
    "m1_checkpoint = None #'./checkpoints/model1.weights.h5'\n",
    "compile(m1, m1_checkpoint, lr)"
   ]
  },
  {
   "cell_type": "markdown",
   "metadata": {},
   "source": [
    "### Train Model"
   ]
  },
  {
   "cell_type": "code",
   "execution_count": null,
   "metadata": {},
   "outputs": [],
   "source": [
    "m1.fit( \n",
    "    x=train_ds, epochs=epochs, validation_data=val_ds,\n",
    "    callbacks=\n",
    "    [\n",
    "        #keras.callbacks.ModelCheckpoint(filepath=m1_checkpoint, save_weights_only=True, monitor=\"val_loss\", mode=\"min\", save_best_only=True),\n",
    "    ])"
   ]
  }
 ],
 "metadata": {
  "kernelspec": {
   "display_name": "tensorflow_gpu",
   "language": "python",
   "name": "python3"
  },
  "language_info": {
   "codemirror_mode": {
    "name": "ipython",
    "version": 3
   },
   "file_extension": ".py",
   "mimetype": "text/x-python",
   "name": "python",
   "nbconvert_exporter": "python",
   "pygments_lexer": "ipython3",
   "version": "3.12.8"
  }
 },
 "nbformat": 4,
 "nbformat_minor": 2
}
