{
 "cells": [
  {
   "cell_type": "code",
   "execution_count": null,
   "metadata": {},
   "outputs": [],
   "source": [
    "import keras, os\n",
    "import numpy as np\n",
    "from models import model1"
   ]
  },
  {
   "cell_type": "markdown",
   "metadata": {},
   "source": [
    "### Hyperparameters"
   ]
  },
  {
   "cell_type": "code",
   "execution_count": 2,
   "metadata": {},
   "outputs": [],
   "source": [
    "n_timesteps = 30\n",
    "n_securities = 20\n",
    "input_shape=((n_timesteps-1, n_securities))\n",
    "embed_dim = 384\n",
    "n_heads = 6\n",
    "n_layers = 2\n",
    "ff_dim = embed_dim*4\n",
    "\n",
    "batch_size = 64\n",
    "epochs = 200\n",
    "lr = 1e-4"
   ]
  },
  {
   "cell_type": "markdown",
   "metadata": {},
   "source": [
    "### Data Pipeline"
   ]
  },
  {
   "cell_type": "code",
   "execution_count": 3,
   "metadata": {},
   "outputs": [],
   "source": [
    "def preprocess_dataset(data, n_timesteps):\n",
    "    n_examples = data.shape[0]-n_timesteps\n",
    "    ds = []\n",
    "    for idx in range(n_examples):\n",
    "        X = data[idx:idx+n_timesteps]\n",
    "        ds.append(X)\n",
    "    return np.array(ds) # (B, timesteps, n_securities)\n",
    "\n",
    "class dataset(keras.utils.PyDataset):\n",
    "\n",
    "    def load(self, path):\n",
    "        y = np.load(path)\n",
    "        y = 0.1*y/np.std(y)\n",
    "        return y    \n",
    "\n",
    "    def __init__(\n",
    "            self,\n",
    "            batch_size,\n",
    "            n_timesteps,\n",
    "            data,           \n",
    "            **kwargs       \n",
    "            ):\n",
    "\n",
    "        super().__init__(**kwargs)\n",
    "        self.batch_size = batch_size\n",
    "        self.n_timesteps = n_timesteps\n",
    "        self.data = data\n",
    "    \n",
    "    def __len__(self):\n",
    "        return self.data.shape[0]\n",
    "\n",
    "    def __getitem__(self, idx):\n",
    "        X = self.data[idx:idx+self.batch_size,:-1]     # (B, n_timesteps-1, n_securities)\n",
    "        Y = self.data[idx:idx+self.batch_size,-1]      # (B, n_securities)\n",
    "        return X, Y"
   ]
  },
  {
   "cell_type": "markdown",
   "metadata": {},
   "source": [
    "### Load Dataset"
   ]
  },
  {
   "cell_type": "code",
   "execution_count": 4,
   "metadata": {},
   "outputs": [],
   "source": [
    "P = np.random.randn(1024, n_securities)\n",
    "\n",
    "# Create dataset splits\n",
    "ds = preprocess_dataset(P, n_timesteps)\n",
    "n_examples = ds.shape[0]\n",
    "train_ds = dataset(batch_size, n_timesteps, ds[:n_examples*80//10])\n",
    "val_ds = dataset(batch_size, n_timesteps, ds[:n_examples*20//100])"
   ]
  },
  {
   "cell_type": "markdown",
   "metadata": {},
   "source": [
    "### Build Model"
   ]
  },
  {
   "cell_type": "code",
   "execution_count": 5,
   "metadata": {},
   "outputs": [],
   "source": [
    "def compile(model, checkpoint, lr):\n",
    "    model.compile(\n",
    "        optimizer=keras.optimizers.Adam(learning_rate=lr),\n",
    "        loss=keras.losses.MeanSquaredError(),\n",
    "        )    \n",
    "    if checkpoint is not None:\n",
    "        if os.path.exists(checkpoint):\n",
    "            print(f'Loaded model checkpoint \"{checkpoint}\"')\n",
    "            model = model.load_weights(checkpoint)\n",
    "        else:\n",
    "            print(f'New model \"{checkpoint}\"')"
   ]
  },
  {
   "cell_type": "code",
   "execution_count": null,
   "metadata": {},
   "outputs": [],
   "source": [
    "m1 = model1(input_shape, n_layers, embed_dim, n_heads, ff_dim)\n",
    "m1.summary()\n",
    "\n",
    "m1_checkpoint = './checkpoints/model1.weights.h5'\n",
    "compile(m1, m1_checkpoint, lr)"
   ]
  },
  {
   "cell_type": "markdown",
   "metadata": {},
   "source": [
    "### Train Model"
   ]
  },
  {
   "cell_type": "code",
   "execution_count": null,
   "metadata": {},
   "outputs": [],
   "source": [
    "m1.fit( \n",
    "    x=train_ds, epochs=epochs, validation_data=val_ds,\n",
    "    callbacks=\n",
    "    [\n",
    "        keras.callbacks.ModelCheckpoint(filepath=m1_checkpoint, save_weights_only=True, monitor=\"val_loss\", mode=\"min\", save_best_only=True),\n",
    "    ])"
   ]
  }
 ],
 "metadata": {
  "kernelspec": {
   "display_name": "tensorflow_gpu",
   "language": "python",
   "name": "python3"
  },
  "language_info": {
   "codemirror_mode": {
    "name": "ipython",
    "version": 3
   },
   "file_extension": ".py",
   "mimetype": "text/x-python",
   "name": "python",
   "nbconvert_exporter": "python",
   "pygments_lexer": "ipython3",
   "version": "3.12.8"
  }
 },
 "nbformat": 4,
 "nbformat_minor": 2
}
